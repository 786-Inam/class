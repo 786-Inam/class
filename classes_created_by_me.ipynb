{
 "cells": [
  {
   "cell_type": "code",
   "execution_count": 12,
   "metadata": {},
   "outputs": [],
   "source": [
    "class Restaurant:\n",
    "    def __init__(self,restaurant_name,cuisine_type):\n",
    "        self.restaurant_name = restaurant_name\n",
    "        self.cuisine_type = cuisine_type\n",
    "        self.number_served = 50\n",
    "        self.login_attempts = 0\n",
    "    def describe_restaurant(self):\n",
    "        print(f\"Welcome to the most famous {self.cuisine_type} and founder is {self.restaurant_name} \")\n",
    "    def open_restaurant(self):\n",
    "        print(f\"The restaurant is open\")\n",
    "    def set_number_served(self,customer_served):\n",
    "        self.number_served = customer_served\n",
    "        print(f\"we are serving a minimum {self.number_served} customer on a single day\")\n",
    "    def increament_number_served(self,increament_sevred):\n",
    "        self.number_served += increament_sevred\n",
    "        print(f\"There are {self.number_served} customer has been served for two days\")\n",
    "    def increament_login_attempts(self,login):\n",
    "        if login >= self.login_attempts:\n",
    "            self.login_attempts = login\n",
    "            self.login_attempts += 1\n",
    "            print(f\"Till now user has logged in {self.login_attempts} times\")\n",
    "    def reset_login_attempt(self):\n",
    "        self.login_attempts = 0\n",
    "        print(f\"Your login attempt has been reset to {self.login_attempts}\")"
   ]
  },
  {
   "cell_type": "code",
   "execution_count": 13,
   "metadata": {},
   "outputs": [],
   "source": [
    "class Value:\n",
    "    def __init__(self,amount=0,day=0):\n",
    "        self.amount = amount\n",
    "        self.day = day\n",
    "        self.average = 0\n",
    "    def total(self):\n",
    "        self.average = self.amount/self.day\n",
    "        print(f\"The total is displayed: {self.average}\")"
   ]
  },
  {
   "cell_type": "code",
   "execution_count": 14,
   "metadata": {},
   "outputs": [
    {
     "name": "stdout",
     "output_type": "stream",
     "text": [
      "Welcome to the most famous Multicuisine hotel and founder is King Maker \n",
      "The total is displayed: 106666.66666666667\n"
     ]
    }
   ],
   "source": [
    "class Hotel(Restaurant):\n",
    "    def __init__(self,restaurant_name,cuisine_type):\n",
    "        super().__init__(restaurant_name,cuisine_type)\n",
    "        self.tally = Value(1600000,15)\n",
    "        \n",
    "hotel_value = Hotel(\"King Maker\",\"Multicuisine hotel\")\n",
    "hotel_value.describe_restaurant()\n",
    "hotel_value.tally.total()"
   ]
  },
  {
   "cell_type": "code",
   "execution_count": null,
   "metadata": {},
   "outputs": [],
   "source": []
  }
 ],
 "metadata": {
  "kernelspec": {
   "display_name": "Python 3",
   "language": "python",
   "name": "python3"
  },
  "language_info": {
   "codemirror_mode": {
    "name": "ipython",
    "version": 3
   },
   "file_extension": ".py",
   "mimetype": "text/x-python",
   "name": "python",
   "nbconvert_exporter": "python",
   "pygments_lexer": "ipython3",
   "version": "3.8.5"
  }
 },
 "nbformat": 4,
 "nbformat_minor": 4
}
